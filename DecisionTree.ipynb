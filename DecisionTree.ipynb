{
  "nbformat": 4,
  "nbformat_minor": 0,
  "metadata": {
    "colab": {
      "name": "DecisionTree.ipynb",
      "provenance": []
    },
    "kernelspec": {
      "name": "python3",
      "display_name": "Python 3"
    },
    "language_info": {
      "name": "python"
    }
  },
  "cells": [
    {
      "cell_type": "code",
      "metadata": {
        "id": "uN2FtTFTvaVd"
      },
      "source": [
        "import numpy as np\n",
        "import pandas as pd\n",
        "from sklearn import tree"
      ],
      "execution_count": 1,
      "outputs": []
    },
    {
      "cell_type": "code",
      "metadata": {
        "id": "yylNyWNWv8bv"
      },
      "source": [
        "irisDataset = pd.read_csv('iris.csv',delimiter=',', header=0)"
      ],
      "execution_count": 6,
      "outputs": []
    },
    {
      "cell_type": "code",
      "metadata": {
        "colab": {
          "base_uri": "https://localhost:8080/",
          "height": 206
        },
        "id": "xjHGYjmowOTd",
        "outputId": "234fc519-4c68-4540-9300-b20bebf481fa"
      },
      "source": [
        "irisDataset.head()"
      ],
      "execution_count": 13,
      "outputs": [
        {
          "output_type": "execute_result",
          "data": {
            "text/html": [
              "<div>\n",
              "<style scoped>\n",
              "    .dataframe tbody tr th:only-of-type {\n",
              "        vertical-align: middle;\n",
              "    }\n",
              "\n",
              "    .dataframe tbody tr th {\n",
              "        vertical-align: top;\n",
              "    }\n",
              "\n",
              "    .dataframe thead th {\n",
              "        text-align: right;\n",
              "    }\n",
              "</style>\n",
              "<table border=\"1\" class=\"dataframe\">\n",
              "  <thead>\n",
              "    <tr style=\"text-align: right;\">\n",
              "      <th></th>\n",
              "      <th>Id</th>\n",
              "      <th>SepalLengthCm</th>\n",
              "      <th>SepalWidthCm</th>\n",
              "      <th>PetalLengthCm</th>\n",
              "      <th>PetalWidthCm</th>\n",
              "      <th>Species</th>\n",
              "    </tr>\n",
              "  </thead>\n",
              "  <tbody>\n",
              "    <tr>\n",
              "      <th>0</th>\n",
              "      <td>1</td>\n",
              "      <td>7.0</td>\n",
              "      <td>3.2</td>\n",
              "      <td>4.7</td>\n",
              "      <td>1.4</td>\n",
              "      <td>0</td>\n",
              "    </tr>\n",
              "    <tr>\n",
              "      <th>1</th>\n",
              "      <td>2</td>\n",
              "      <td>6.4</td>\n",
              "      <td>3.2</td>\n",
              "      <td>4.5</td>\n",
              "      <td>1.5</td>\n",
              "      <td>0</td>\n",
              "    </tr>\n",
              "    <tr>\n",
              "      <th>2</th>\n",
              "      <td>3</td>\n",
              "      <td>6.9</td>\n",
              "      <td>3.1</td>\n",
              "      <td>4.9</td>\n",
              "      <td>1.5</td>\n",
              "      <td>0</td>\n",
              "    </tr>\n",
              "    <tr>\n",
              "      <th>3</th>\n",
              "      <td>4</td>\n",
              "      <td>5.5</td>\n",
              "      <td>2.3</td>\n",
              "      <td>4.0</td>\n",
              "      <td>1.3</td>\n",
              "      <td>0</td>\n",
              "    </tr>\n",
              "    <tr>\n",
              "      <th>4</th>\n",
              "      <td>5</td>\n",
              "      <td>6.5</td>\n",
              "      <td>2.8</td>\n",
              "      <td>4.6</td>\n",
              "      <td>1.5</td>\n",
              "      <td>0</td>\n",
              "    </tr>\n",
              "  </tbody>\n",
              "</table>\n",
              "</div>"
            ],
            "text/plain": [
              "   Id  SepalLengthCm  SepalWidthCm  PetalLengthCm  PetalWidthCm  Species\n",
              "0   1            7.0           3.2            4.7           1.4        0\n",
              "1   2            6.4           3.2            4.5           1.5        0\n",
              "2   3            6.9           3.1            4.9           1.5        0\n",
              "3   4            5.5           2.3            4.0           1.3        0\n",
              "4   5            6.5           2.8            4.6           1.5        0"
            ]
          },
          "metadata": {
            "tags": []
          },
          "execution_count": 13
        }
      ]
    },
    {
      "cell_type": "code",
      "metadata": {
        "id": "qy1ux1evwH7T"
      },
      "source": [
        "irisDataset[\"Species\"] = pd.factorize(irisDataset.Species)[0]"
      ],
      "execution_count": 8,
      "outputs": []
    },
    {
      "cell_type": "code",
      "metadata": {
        "colab": {
          "base_uri": "https://localhost:8080/",
          "height": 206
        },
        "id": "y-KqwBvNwz4n",
        "outputId": "c3b94996-9e40-4b4f-fcee-c804531448e1"
      },
      "source": [
        "irisDataset.head()"
      ],
      "execution_count": 11,
      "outputs": [
        {
          "output_type": "execute_result",
          "data": {
            "text/html": [
              "<div>\n",
              "<style scoped>\n",
              "    .dataframe tbody tr th:only-of-type {\n",
              "        vertical-align: middle;\n",
              "    }\n",
              "\n",
              "    .dataframe tbody tr th {\n",
              "        vertical-align: top;\n",
              "    }\n",
              "\n",
              "    .dataframe thead th {\n",
              "        text-align: right;\n",
              "    }\n",
              "</style>\n",
              "<table border=\"1\" class=\"dataframe\">\n",
              "  <thead>\n",
              "    <tr style=\"text-align: right;\">\n",
              "      <th></th>\n",
              "      <th>Id</th>\n",
              "      <th>SepalLengthCm</th>\n",
              "      <th>SepalWidthCm</th>\n",
              "      <th>PetalLengthCm</th>\n",
              "      <th>PetalWidthCm</th>\n",
              "      <th>Species</th>\n",
              "    </tr>\n",
              "  </thead>\n",
              "  <tbody>\n",
              "    <tr>\n",
              "      <th>0</th>\n",
              "      <td>1</td>\n",
              "      <td>7.0</td>\n",
              "      <td>3.2</td>\n",
              "      <td>4.7</td>\n",
              "      <td>1.4</td>\n",
              "      <td>0</td>\n",
              "    </tr>\n",
              "    <tr>\n",
              "      <th>1</th>\n",
              "      <td>2</td>\n",
              "      <td>6.4</td>\n",
              "      <td>3.2</td>\n",
              "      <td>4.5</td>\n",
              "      <td>1.5</td>\n",
              "      <td>0</td>\n",
              "    </tr>\n",
              "    <tr>\n",
              "      <th>2</th>\n",
              "      <td>3</td>\n",
              "      <td>6.9</td>\n",
              "      <td>3.1</td>\n",
              "      <td>4.9</td>\n",
              "      <td>1.5</td>\n",
              "      <td>0</td>\n",
              "    </tr>\n",
              "    <tr>\n",
              "      <th>3</th>\n",
              "      <td>4</td>\n",
              "      <td>5.5</td>\n",
              "      <td>2.3</td>\n",
              "      <td>4.0</td>\n",
              "      <td>1.3</td>\n",
              "      <td>0</td>\n",
              "    </tr>\n",
              "    <tr>\n",
              "      <th>4</th>\n",
              "      <td>5</td>\n",
              "      <td>6.5</td>\n",
              "      <td>2.8</td>\n",
              "      <td>4.6</td>\n",
              "      <td>1.5</td>\n",
              "      <td>0</td>\n",
              "    </tr>\n",
              "  </tbody>\n",
              "</table>\n",
              "</div>"
            ],
            "text/plain": [
              "   Id  SepalLengthCm  SepalWidthCm  PetalLengthCm  PetalWidthCm  Species\n",
              "0   1            7.0           3.2            4.7           1.4        0\n",
              "1   2            6.4           3.2            4.5           1.5        0\n",
              "2   3            6.9           3.1            4.9           1.5        0\n",
              "3   4            5.5           2.3            4.0           1.3        0\n",
              "4   5            6.5           2.8            4.6           1.5        0"
            ]
          },
          "metadata": {
            "tags": []
          },
          "execution_count": 11
        }
      ]
    },
    {
      "cell_type": "code",
      "metadata": {
        "colab": {
          "base_uri": "https://localhost:8080/"
        },
        "id": "NjSqsINyw3Wn",
        "outputId": "141bad9b-8a43-473d-8818-11dd8247ab6b"
      },
      "source": [
        "print(irisDataset)"
      ],
      "execution_count": 12,
      "outputs": [
        {
          "output_type": "stream",
          "text": [
            "    Id  SepalLengthCm  SepalWidthCm  PetalLengthCm  PetalWidthCm  Species\n",
            "0    1            7.0           3.2            4.7           1.4        0\n",
            "1    2            6.4           3.2            4.5           1.5        0\n",
            "2    3            6.9           3.1            4.9           1.5        0\n",
            "3    4            5.5           2.3            4.0           1.3        0\n",
            "4    5            6.5           2.8            4.6           1.5        0\n",
            "5    6            5.7           2.8            4.5           1.3        0\n",
            "6    7            6.3           3.3            4.7           1.6        0\n",
            "7    8            4.9           2.4            3.3           1.0        0\n",
            "8    9            6.6           2.9            4.6           1.3        0\n",
            "9   10            5.2           2.7            3.9           1.4        0\n",
            "10  11            5.0           2.0            3.5           1.0        0\n",
            "11  12            5.9           3.0            4.2           1.5        0\n",
            "12  13            6.0           2.2            4.0           1.0        0\n",
            "13  14            6.1           2.9            4.7           1.4        0\n",
            "14  15            5.6           2.9            3.6           1.3        0\n",
            "15  16            6.7           3.1            4.4           1.4        0\n",
            "16  17            5.6           3.0            4.5           1.5        0\n",
            "17  18            5.8           2.7            4.1           1.0        0\n",
            "18  19            6.2           2.2            4.5           1.5        0\n",
            "19  20            5.6           2.5            3.9           1.1        0\n",
            "20  21            5.9           3.2            4.8           1.8        0\n",
            "21  22            6.1           2.8            4.0           1.3        0\n",
            "22  23            6.3           2.5            4.9           1.5        0\n",
            "23  24            6.1           2.8            4.7           1.2        0\n",
            "24  25            6.4           2.9            4.3           1.3        0\n",
            "25  26            6.6           3.0            4.4           1.4        0\n",
            "26  27            6.8           2.8            4.8           1.4        0\n",
            "27  28            6.7           3.0            5.0           1.7        0\n",
            "28  29            6.0           2.9            4.5           1.5        0\n",
            "29  30            5.7           2.6            3.5           1.0        0\n",
            "30  31            5.5           2.4            3.8           1.1        0\n",
            "31  32            5.5           2.4            3.7           1.0        0\n",
            "32  33            5.8           2.7            3.9           1.2        0\n",
            "33  34            6.0           2.7            5.1           1.6        0\n",
            "34  35            5.4           3.0            4.5           1.5        0\n",
            "35  36            6.0           3.4            4.5           1.6        0\n",
            "36  37            6.7           3.1            4.7           1.5        0\n",
            "37  38            6.3           2.3            4.4           1.3        0\n",
            "38  39            5.6           3.0            4.1           1.3        0\n",
            "39  40            5.5           2.5            4.0           1.3        0\n",
            "40  41            5.5           2.6            4.4           1.2        0\n",
            "41  42            6.1           3.0            4.6           1.4        0\n",
            "42  43            5.8           2.6            4.0           1.2        0\n",
            "43  44            5.0           2.3            3.3           1.0        0\n",
            "44  45            5.6           2.7            4.2           1.3        0\n",
            "45  46            5.7           3.0            4.2           1.2        0\n",
            "46  47            5.7           2.9            4.2           1.3        0\n",
            "47  48            6.2           2.9            4.3           1.3        0\n",
            "48  49            5.1           2.5            3.0           1.1        0\n",
            "49  50            5.7           2.8            4.1           1.3        0\n"
          ],
          "name": "stdout"
        }
      ]
    },
    {
      "cell_type": "code",
      "metadata": {
        "id": "6Z64aylow-d7"
      },
      "source": [
        "irisDataset = irisDataset.drop(labels=\"Id\",axis=1)"
      ],
      "execution_count": 15,
      "outputs": []
    },
    {
      "cell_type": "code",
      "metadata": {
        "colab": {
          "base_uri": "https://localhost:8080/"
        },
        "id": "vj0XcznfxIUw",
        "outputId": "28280511-a5a5-4576-bb79-172b1778d7ef"
      },
      "source": [
        "print(irisDataset)"
      ],
      "execution_count": 16,
      "outputs": [
        {
          "output_type": "stream",
          "text": [
            "    SepalLengthCm  SepalWidthCm  PetalLengthCm  PetalWidthCm  Species\n",
            "0             7.0           3.2            4.7           1.4        0\n",
            "1             6.4           3.2            4.5           1.5        0\n",
            "2             6.9           3.1            4.9           1.5        0\n",
            "3             5.5           2.3            4.0           1.3        0\n",
            "4             6.5           2.8            4.6           1.5        0\n",
            "5             5.7           2.8            4.5           1.3        0\n",
            "6             6.3           3.3            4.7           1.6        0\n",
            "7             4.9           2.4            3.3           1.0        0\n",
            "8             6.6           2.9            4.6           1.3        0\n",
            "9             5.2           2.7            3.9           1.4        0\n",
            "10            5.0           2.0            3.5           1.0        0\n",
            "11            5.9           3.0            4.2           1.5        0\n",
            "12            6.0           2.2            4.0           1.0        0\n",
            "13            6.1           2.9            4.7           1.4        0\n",
            "14            5.6           2.9            3.6           1.3        0\n",
            "15            6.7           3.1            4.4           1.4        0\n",
            "16            5.6           3.0            4.5           1.5        0\n",
            "17            5.8           2.7            4.1           1.0        0\n",
            "18            6.2           2.2            4.5           1.5        0\n",
            "19            5.6           2.5            3.9           1.1        0\n",
            "20            5.9           3.2            4.8           1.8        0\n",
            "21            6.1           2.8            4.0           1.3        0\n",
            "22            6.3           2.5            4.9           1.5        0\n",
            "23            6.1           2.8            4.7           1.2        0\n",
            "24            6.4           2.9            4.3           1.3        0\n",
            "25            6.6           3.0            4.4           1.4        0\n",
            "26            6.8           2.8            4.8           1.4        0\n",
            "27            6.7           3.0            5.0           1.7        0\n",
            "28            6.0           2.9            4.5           1.5        0\n",
            "29            5.7           2.6            3.5           1.0        0\n",
            "30            5.5           2.4            3.8           1.1        0\n",
            "31            5.5           2.4            3.7           1.0        0\n",
            "32            5.8           2.7            3.9           1.2        0\n",
            "33            6.0           2.7            5.1           1.6        0\n",
            "34            5.4           3.0            4.5           1.5        0\n",
            "35            6.0           3.4            4.5           1.6        0\n",
            "36            6.7           3.1            4.7           1.5        0\n",
            "37            6.3           2.3            4.4           1.3        0\n",
            "38            5.6           3.0            4.1           1.3        0\n",
            "39            5.5           2.5            4.0           1.3        0\n",
            "40            5.5           2.6            4.4           1.2        0\n",
            "41            6.1           3.0            4.6           1.4        0\n",
            "42            5.8           2.6            4.0           1.2        0\n",
            "43            5.0           2.3            3.3           1.0        0\n",
            "44            5.6           2.7            4.2           1.3        0\n",
            "45            5.7           3.0            4.2           1.2        0\n",
            "46            5.7           2.9            4.2           1.3        0\n",
            "47            6.2           2.9            4.3           1.3        0\n",
            "48            5.1           2.5            3.0           1.1        0\n",
            "49            5.7           2.8            4.1           1.3        0\n"
          ],
          "name": "stdout"
        }
      ]
    },
    {
      "cell_type": "code",
      "metadata": {
        "id": "45Lewo_gxLxd"
      },
      "source": [
        "irisDataset = irisDataset.to_numpy()"
      ],
      "execution_count": 17,
      "outputs": []
    },
    {
      "cell_type": "code",
      "metadata": {
        "colab": {
          "base_uri": "https://localhost:8080/"
        },
        "id": "ZSCxx1KExTHa",
        "outputId": "bc1c1493-f696-4adc-d226-639a006b4764"
      },
      "source": [
        "print(irisDataset)"
      ],
      "execution_count": 18,
      "outputs": [
        {
          "output_type": "stream",
          "text": [
            "[[7.  3.2 4.7 1.4 0. ]\n",
            " [6.4 3.2 4.5 1.5 0. ]\n",
            " [6.9 3.1 4.9 1.5 0. ]\n",
            " [5.5 2.3 4.  1.3 0. ]\n",
            " [6.5 2.8 4.6 1.5 0. ]\n",
            " [5.7 2.8 4.5 1.3 0. ]\n",
            " [6.3 3.3 4.7 1.6 0. ]\n",
            " [4.9 2.4 3.3 1.  0. ]\n",
            " [6.6 2.9 4.6 1.3 0. ]\n",
            " [5.2 2.7 3.9 1.4 0. ]\n",
            " [5.  2.  3.5 1.  0. ]\n",
            " [5.9 3.  4.2 1.5 0. ]\n",
            " [6.  2.2 4.  1.  0. ]\n",
            " [6.1 2.9 4.7 1.4 0. ]\n",
            " [5.6 2.9 3.6 1.3 0. ]\n",
            " [6.7 3.1 4.4 1.4 0. ]\n",
            " [5.6 3.  4.5 1.5 0. ]\n",
            " [5.8 2.7 4.1 1.  0. ]\n",
            " [6.2 2.2 4.5 1.5 0. ]\n",
            " [5.6 2.5 3.9 1.1 0. ]\n",
            " [5.9 3.2 4.8 1.8 0. ]\n",
            " [6.1 2.8 4.  1.3 0. ]\n",
            " [6.3 2.5 4.9 1.5 0. ]\n",
            " [6.1 2.8 4.7 1.2 0. ]\n",
            " [6.4 2.9 4.3 1.3 0. ]\n",
            " [6.6 3.  4.4 1.4 0. ]\n",
            " [6.8 2.8 4.8 1.4 0. ]\n",
            " [6.7 3.  5.  1.7 0. ]\n",
            " [6.  2.9 4.5 1.5 0. ]\n",
            " [5.7 2.6 3.5 1.  0. ]\n",
            " [5.5 2.4 3.8 1.1 0. ]\n",
            " [5.5 2.4 3.7 1.  0. ]\n",
            " [5.8 2.7 3.9 1.2 0. ]\n",
            " [6.  2.7 5.1 1.6 0. ]\n",
            " [5.4 3.  4.5 1.5 0. ]\n",
            " [6.  3.4 4.5 1.6 0. ]\n",
            " [6.7 3.1 4.7 1.5 0. ]\n",
            " [6.3 2.3 4.4 1.3 0. ]\n",
            " [5.6 3.  4.1 1.3 0. ]\n",
            " [5.5 2.5 4.  1.3 0. ]\n",
            " [5.5 2.6 4.4 1.2 0. ]\n",
            " [6.1 3.  4.6 1.4 0. ]\n",
            " [5.8 2.6 4.  1.2 0. ]\n",
            " [5.  2.3 3.3 1.  0. ]\n",
            " [5.6 2.7 4.2 1.3 0. ]\n",
            " [5.7 3.  4.2 1.2 0. ]\n",
            " [5.7 2.9 4.2 1.3 0. ]\n",
            " [6.2 2.9 4.3 1.3 0. ]\n",
            " [5.1 2.5 3.  1.1 0. ]\n",
            " [5.7 2.8 4.1 1.3 0. ]]\n"
          ],
          "name": "stdout"
        }
      ]
    },
    {
      "cell_type": "code",
      "metadata": {
        "id": "QAIDhOz6xVK4"
      },
      "source": [
        "dataTraining = np.concatenate((irisDataset[0:20, :], irisDataset[25:45, :]),\n",
        "                              axis=0)\n",
        "dataTesting = np.concatenate((irisDataset[20:25, :], irisDataset[45:50, :]),\n",
        "                             axis=0)"
      ],
      "execution_count": 21,
      "outputs": []
    },
    {
      "cell_type": "code",
      "metadata": {
        "colab": {
          "base_uri": "https://localhost:8080/"
        },
        "id": "ixVIhzTiyT6u",
        "outputId": "7ca8d69a-33e3-44de-ac80-61d07fa255a5"
      },
      "source": [
        "print(dataTesting)\n",
        "len(dataTesting)"
      ],
      "execution_count": 23,
      "outputs": [
        {
          "output_type": "stream",
          "text": [
            "[[5.9 3.2 4.8 1.8 0. ]\n",
            " [6.1 2.8 4.  1.3 0. ]\n",
            " [6.3 2.5 4.9 1.5 0. ]\n",
            " [6.1 2.8 4.7 1.2 0. ]\n",
            " [6.4 2.9 4.3 1.3 0. ]\n",
            " [5.7 3.  4.2 1.2 0. ]\n",
            " [5.7 2.9 4.2 1.3 0. ]\n",
            " [6.2 2.9 4.3 1.3 0. ]\n",
            " [5.1 2.5 3.  1.1 0. ]\n",
            " [5.7 2.8 4.1 1.3 0. ]]\n"
          ],
          "name": "stdout"
        },
        {
          "output_type": "execute_result",
          "data": {
            "text/plain": [
              "10"
            ]
          },
          "metadata": {
            "tags": []
          },
          "execution_count": 23
        }
      ]
    },
    {
      "cell_type": "code",
      "metadata": {
        "id": "Ph8Hwk7jyZ9C"
      },
      "source": [
        "inputTraining = dataTraining[:,0:4]\n",
        "inputTesting = dataTesting[:,0:4]\n",
        "labelTraining = dataTraining[:,4]\n",
        "labelTesting = dataTesting[:,4]"
      ],
      "execution_count": 24,
      "outputs": []
    },
    {
      "cell_type": "code",
      "metadata": {
        "id": "lLMBAZnWy_Cq"
      },
      "source": [
        "model = tree.DecisionTreeClassifier()"
      ],
      "execution_count": 25,
      "outputs": []
    },
    {
      "cell_type": "code",
      "metadata": {
        "id": "nsWVkZ1EzEWm"
      },
      "source": [
        "model = model.fit(inputTraining, labelTraining)"
      ],
      "execution_count": 26,
      "outputs": []
    },
    {
      "cell_type": "code",
      "metadata": {
        "colab": {
          "base_uri": "https://localhost:8080/"
        },
        "id": "WksJZLqtzJcq",
        "outputId": "ad14b6e1-6a8b-4ba9-ddba-9af743e44559"
      },
      "source": [
        "hasilPrediksi = model.predict(inputTesting)\n",
        "print(\"Label Sebenarnya : \", labelTesting)\n",
        "print(\"Hasil Prediksi :\", hasilPrediksi)"
      ],
      "execution_count": 27,
      "outputs": [
        {
          "output_type": "stream",
          "text": [
            "Label Sebenarnya :  [0. 0. 0. 0. 0. 0. 0. 0. 0. 0.]\n",
            "Hasil Prediksi : [0. 0. 0. 0. 0. 0. 0. 0. 0. 0.]\n"
          ],
          "name": "stdout"
        }
      ]
    },
    {
      "cell_type": "code",
      "metadata": {
        "colab": {
          "base_uri": "https://localhost:8080/"
        },
        "id": "_kHyE01RzWi_",
        "outputId": "de1b923a-07da-48a0-b1d8-5386a0ee9663"
      },
      "source": [
        "prediksiBenar = (hasilPrediksi == labelTesting).sum()\n",
        "prediksiSalah = (hasilPrediksi != labelTesting).sum()\n",
        "print(\"Prediksi Benar :\", prediksiBenar,\"data\")\n",
        "print(\"Prediksi Salah :\", prediksiSalah,\"data\")\n",
        "print(\"Akurasi :\", prediksiBenar/(prediksiBenar+prediksiSalah)*100, \"%\")"
      ],
      "execution_count": 28,
      "outputs": [
        {
          "output_type": "stream",
          "text": [
            "Prediksi Benar : 10 data\n",
            "Prediksi Salah : 0 data\n",
            "Akurasi : 100.0 %\n"
          ],
          "name": "stdout"
        }
      ]
    }
  ]
}